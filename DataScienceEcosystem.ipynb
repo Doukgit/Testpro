{
 "cells": [
  {
   "cell_type": "markdown",
   "id": "9eee5952-d493-4062-94fc-fb2ea771bb52",
   "metadata": {},
   "source": [
    "# Data Science Tools and Ecosystem"
   ]
  },
  {
   "cell_type": "markdown",
   "id": "d9ae5a59-22e7-4111-a211-106929fcdd09",
   "metadata": {},
   "source": [
    "In this notebook, Data Science Tools and Ecosystem are summarized."
   ]
  },
  {
   "cell_type": "markdown",
   "id": "f5fab779-c331-490c-881e-aff2e8c2e125",
   "metadata": {},
   "source": [
    "# Objectives:\n",
    "* Data Science most popular languages\n",
    "* Data Science most used libraries\n",
    "* Data Science most used tools\n",
    "* Arithmetic expression in pyton "
   ]
  },
  {
   "cell_type": "markdown",
   "id": "3e06ba48-2629-403a-ad18-f69556a6ca86",
   "metadata": {},
   "source": [
    "Some of the popular languages that Data Scientists use are:\n",
    "* 1 Pythjon\n",
    "* 2 R\n",
    "* 3 Julia"
   ]
  },
  {
   "cell_type": "markdown",
   "id": "20874fbb-ab42-42b9-a184-52bfb59814ae",
   "metadata": {},
   "source": [
    "Some of the commonly used libraries used by Data Scientists include:\n",
    "* 1 NumPy\n",
    "* 2 Pandas\n",
    "* 3 Matplotlib"
   ]
  },
  {
   "cell_type": "markdown",
   "id": "9a81c3bf-f520-4e04-8612-48d696245fdd",
   "metadata": {},
   "source": [
    "|Data Science tools|\n",
    "|--------------------|\n",
    "|Apache Spark|\n",
    "|Tensorflow|\n",
    "|RStudio|"
   ]
  },
  {
   "cell_type": "markdown",
   "id": "1a88f3a2-2b09-44bb-926f-9920b4fe3da9",
   "metadata": {},
   "source": [
    "### Below are a few examples of evaluating arithmetic expressions in Python\n",
    "Sub = 10 - 5 # 5\n",
    "add = 10 + 5 # 15"
   ]
  },
  {
   "cell_type": "code",
   "execution_count": 1,
   "id": "2658860f-b80e-455a-919b-129e22da02c2",
   "metadata": {},
   "outputs": [
    {
     "data": {
      "text/plain": [
       "17"
      ]
     },
     "execution_count": 1,
     "metadata": {},
     "output_type": "execute_result"
    }
   ],
   "source": [
    "(3*4)+5\n",
    "#This a simple arithmetic expression to mutiply then add integers"
   ]
  },
  {
   "cell_type": "code",
   "execution_count": 35,
   "id": "7e4c9af3-0259-4226-a0cc-438f40e793da",
   "metadata": {},
   "outputs": [],
   "source": [
    "#This will convert 200 minutes to hours by diving by 60\n",
    "div = 200/60 # 3.33"
   ]
  },
  {
   "cell_type": "markdown",
   "id": "7358e3f8-7e4e-4acd-9dac-4420dd121ff2",
   "metadata": {},
   "source": [
    "## Author\n",
    "Doukoure Fall"
   ]
  }
 ],
 "metadata": {
  "kernelspec": {
   "display_name": "Python 3 (ipykernel)",
   "language": "python",
   "name": "python3"
  },
  "language_info": {
   "codemirror_mode": {
    "name": "ipython",
    "version": 3
   },
   "file_extension": ".py",
   "mimetype": "text/x-python",
   "name": "python",
   "nbconvert_exporter": "python",
   "pygments_lexer": "ipython3",
   "version": "3.12.4"
  }
 },
 "nbformat": 4,
 "nbformat_minor": 5
}
